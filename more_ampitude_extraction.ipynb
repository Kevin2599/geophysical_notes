{
 "cells": [
  {
   "cell_type": "markdown",
   "metadata": {},
   "source": [
    "# more amplitude extraction\n",
    "\n",
    "This notebook shows a better way to deal with seismic cubes, horizons and amplitude extraction. I made it because I was reading Matt Hall's [tutorial on interpolation](https://github.com/seg/tutorials-2016/blob/master/1604_Function_of_interpolation/The_function_of_interpolation.ipynb) to get around some of the issues I had at work, but then I got confused between survey directions and how to show horizon maps and stuff like that. I mean, I really thought I had it dialled but maybe I hadn't because I saw inverted grids and inlines instead of crosslines when trying to use the same data as Matt.\n",
    "\n",
    "Anyway, now I think that Matt's tutorial needs to be corrected -- _now_ have it dialled.\n",
    "\n",
    "Consider this as an update, circa mid-2017, of my earlier notebook on [amplitude extraction](http://nbviewer.ipython.org/github/aadm/geophysical_notes/blob/master/seismic_amplitude_extraction.ipynb). I know, I know, it's mid-2017, everybody talks about Machine Learning and I'm still stuck with amplitude extraction on seismic???"
   ]
  },
  {
   "cell_type": "code",
   "execution_count": null,
   "metadata": {
    "collapsed": true
   },
   "outputs": [],
   "source": []
  }
 ],
 "metadata": {
  "kernelspec": {
   "display_name": "Python 3",
   "language": "python",
   "name": "python3"
  },
  "language_info": {
   "codemirror_mode": {
    "name": "ipython",
    "version": 3
   },
   "file_extension": ".py",
   "mimetype": "text/x-python",
   "name": "python",
   "nbconvert_exporter": "python",
   "pygments_lexer": "ipython3",
   "version": "3.6.6"
  }
 },
 "nbformat": 4,
 "nbformat_minor": 2
}
